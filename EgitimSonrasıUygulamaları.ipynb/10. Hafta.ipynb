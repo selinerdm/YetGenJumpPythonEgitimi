{
 "cells": [
  {
   "attachments": {},
   "cell_type": "markdown",
   "metadata": {},
   "source": [
    "# Problem 1 "
   ]
  },
  {
   "cell_type": "code",
   "execution_count": 13,
   "metadata": {},
   "outputs": [
    {
     "name": "stdout",
     "output_type": "stream",
     "text": [
      "[12 32 45 67 89]\n"
     ]
    }
   ],
   "source": [
    "# 1 - numpy kütüphanesini import edin\n",
    "import numpy as np\n",
    "# 2 - 5 elemanlı bir numpy array oluşturun\n",
    "ray = np.array([32,45,67,89,12])\n",
    "# 3 - Oluşturduğunuz arrayi küçükten büyüğe sıralayın.\n",
    "print(np.sort(ray))"
   ]
  },
  {
   "attachments": {},
   "cell_type": "markdown",
   "metadata": {},
   "source": [
    "# Problem 2"
   ]
  },
  {
   "cell_type": "code",
   "execution_count": 14,
   "metadata": {},
   "outputs": [
    {
     "name": "stdout",
     "output_type": "stream",
     "text": [
      "[10 15 30 45 60]\n",
      "[ 5  6  7  8  9 10 11 12 13 14]\n",
      "[50 55 60 65 70 75 80 85 90 95]\n",
      "[0. 0. 0. 0. 0. 0. 0. 0. 0. 0.]\n",
      "[1. 1. 1. 1. 1. 1. 1. 1. 1. 1.]\n",
      "[  0.  25.  50.  75. 100.]\n",
      "[10 20 22 22 16]\n",
      "[ 0.08952388  0.95583108 -0.72166027 -0.68481075  0.42355049 -0.68929022\n",
      "  0.66266728  0.45720376  0.35537857  0.9081307 ]\n",
      "[[46 32 17 13 15]\n",
      " [38 15 24 29 29]\n",
      " [36 35 44 42 14]]\n",
      "[120  82  85  84  58]\n",
      "[123 135 171]\n",
      "46\n",
      "13\n",
      "28.6\n",
      "0\n",
      "[14 13 16]\n",
      "[13 14 17 12 14 16 13 14]\n",
      "[46 32 17 13 15]\n",
      "24\n",
      "[46 38 36]\n",
      "[[2116 1024  289  169  225]\n",
      " [1444  225  576  841  841]\n",
      " [1296 1225 1936 1764  196]]\n",
      "[[ True False False False False]\n",
      " [False False False False False]\n",
      " [False False  True False False]]\n"
     ]
    }
   ],
   "source": [
    "# 1- (10,15,30,45,60) değerlerine sahip numpy dizisi oluşturunuz.\n",
    "sayilar = np.array([10,15,30,45,60])\n",
    "print(sayilar)\n",
    "# 2- (5-15) arasındaki sayılarla numpy dizisi oluşturunuz.\n",
    "sayilar2 = np.arange(5,15)\n",
    "print(sayilar2)\n",
    "# 3- (50-100) arasında 5'er 5'er artarak numpy dizisi oluşturunuz.\n",
    "sayilar3 = np.arange(50,100,5)\n",
    "print(sayilar3)\n",
    "# 4- 10 elemanlı sıfırlardan oluşan bir dizi oluşturunuz.\n",
    "sayilar4 = np.zeros(10)\n",
    "print(sayilar4)\n",
    "# 5- 10 elemanlı birlerden oluşan bir dizi oluşturunuz.\n",
    "sayilar5 = np.ones(10)\n",
    "print(sayilar5)\n",
    "# 6- (0-100) arasında eşit aralıklı 5 sayı üretin.\n",
    "sayilar6 = np.linspace(0,100,5)\n",
    "print(sayilar6)\n",
    "# 7- (10-30) arasında rastgele 5 tane tamsayı üretin.\n",
    "random_numbers = np.random.randint(10,31, size=5)\n",
    "print(random_numbers)\n",
    "# 8- [-1 ile 1] arasında 10 adet sayı üretin.\n",
    "random_numbers2 = np.random.uniform(-1, 1, size=10)\n",
    "print(random_numbers2)\n",
    "# 9- (3x5) boyutlarında (10-50) arasında rastgele bir matris oluşturunuz.\n",
    "random_numbers3 = np.random.randint(10,50, size=(3,5))\n",
    "print(random_numbers3)\n",
    "# 10- Üretilen matrisin satır ve sütun sayıları toplamlarını hesaplayınız ?\n",
    "print(random_numbers3.sum(axis=0))\n",
    "print(random_numbers3.sum(axis=1))\n",
    "# 11- Üretilen matrisin en büyük, en küçük ve ortalaması nedir ?\n",
    "print(random_numbers3.max())\n",
    "print(random_numbers3.min())\n",
    "print(random_numbers3.mean())\n",
    "# 12- Üretilen matrisin en büyük değerinin indeksi kaçtır ?\n",
    "print(random_numbers3.argmax())\n",
    "\n",
    "# 13- (10-20) arasındaki sayıları içeren dizinin ilk 3 elemanını seçiniz.\n",
    "random_numbers4 = np.random.randint(10, 20, size=8)\n",
    "print(random_numbers4[:3])\n",
    "# 14- Üretilen dizinin elemanlarını tersten yazdırın.\n",
    "print(random_numbers4[::-1])\n",
    "\n",
    "# 15- Üretilen matrisin ilk satırını seçiniz.\n",
    "print(random_numbers3[0])\n",
    "\n",
    "# 16- Üretilen matrisin 2.satır 3.sütundaki elemanı hangisidir ?\n",
    "print(random_numbers3[1,2])\n",
    "\n",
    "# 17- Üretilen matrisin tüm satırlardaki ilk elemanı seçiniz.\n",
    "print(random_numbers3[:,0])\n",
    "\n",
    "# 18- Üretilen matrisin her bir elemanının karesini alınız.\n",
    "print(random_numbers3**2)\n",
    "\n",
    "# 19- Üretilen matris elemanlarının hangisi pozitif çift sayıdır ? Aralığı (-50,+50) arasında yapınız.\n",
    "random_numbers5 = np.random.randint(-50, 50, size=(3,5))\n",
    "print((random_numbers5 > 0) & (random_numbers5 % 2 == 0))"
   ]
  }
 ],
 "metadata": {
  "kernelspec": {
   "display_name": "Python 3",
   "language": "python",
   "name": "python3"
  },
  "language_info": {
   "codemirror_mode": {
    "name": "ipython",
    "version": 3
   },
   "file_extension": ".py",
   "mimetype": "text/x-python",
   "name": "python",
   "nbconvert_exporter": "python",
   "pygments_lexer": "ipython3",
   "version": "3.11.1"
  },
  "orig_nbformat": 4,
  "vscode": {
   "interpreter": {
    "hash": "5026d2d6e7aaaaba093def813beadff083d8733e4a511af01735cbabd156995d"
   }
  }
 },
 "nbformat": 4,
 "nbformat_minor": 2
}
