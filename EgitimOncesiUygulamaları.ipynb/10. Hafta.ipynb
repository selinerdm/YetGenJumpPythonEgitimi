{
 "cells": [
  {
   "attachments": {},
   "cell_type": "markdown",
   "metadata": {},
   "source": [
    "# Problem 1"
   ]
  },
  {
   "cell_type": "code",
   "execution_count": 24,
   "metadata": {},
   "outputs": [
    {
     "name": "stdout",
     "output_type": "stream",
     "text": [
      "[ 0.   2.5  5.   7.5 10. ]\n",
      "(5,)\n",
      "[[ 0.   2.5]\n",
      " [ 5.   7.5]\n",
      " [10.  12.5]]\n",
      "1\n"
     ]
    }
   ],
   "source": [
    "# 1 - numpy kütüphanesini import edin\n",
    "import numpy as np\n",
    "# 2 - 0 ile 10 arasında 5 sayıdan oluşan matris üretin\n",
    "matris = np.linspace(0,10,5)\n",
    "print(matris)\n",
    "# 3 - matris'in boyutunu öğrenin\n",
    "print(matris.shape)\n",
    "# 4 - matris'i yeniden boyutlandırın\n",
    "matris = np.array([ 0, 2.5, 5., 7.5, 10., 12.5])\n",
    "yeni = matris.reshape(3,2)\n",
    "print(yeni)\n",
    "# 5 - matris'in boyut sayısını öğrenin\n",
    "print(matris.ndim)\n"
   ]
  },
  {
   "attachments": {},
   "cell_type": "markdown",
   "metadata": {},
   "source": [
    "# Problem 2"
   ]
  },
  {
   "cell_type": "code",
   "execution_count": 2,
   "metadata": {},
   "outputs": [
    {
     "name": "stdout",
     "output_type": "stream",
     "text": [
      "Requirement already satisfied: numpy in c:\\users\\selin\\appdata\\local\\programs\\python\\python311\\lib\\site-packages (1.24.3)\n",
      "Note: you may need to restart the kernel to use updated packages.\n"
     ]
    },
    {
     "name": "stderr",
     "output_type": "stream",
     "text": [
      "\n",
      "[notice] A new release of pip available: 22.3.1 -> 23.1.1\n",
      "[notice] To update, run: python.exe -m pip install --upgrade pip\n"
     ]
    }
   ],
   "source": [
    "pip install numpy"
   ]
  },
  {
   "cell_type": "code",
   "execution_count": 21,
   "metadata": {},
   "outputs": [
    {
     "name": "stdout",
     "output_type": "stream",
     "text": [
      "[1 3 5 7 9]\n",
      "[array([1, 3]), array([5, 7]), array([9])]\n",
      "[1 3 5 7 9]\n"
     ]
    }
   ],
   "source": [
    "# 1 - 0 ile 10 arasında bulunan tek sayılardan oluşan matris üretin\n",
    "import numpy as np\n",
    "a = np.arange(1,10,2)\n",
    "print(a)\n",
    "# 2 - Oluşturduğunuz matrisi parçalayın\n",
    "print(np.split(a,[2,4]))\n",
    "b = np.split(a,[2,4])\n",
    "# 3 - Parçalanmış matrisleri birleştirin\n",
    "x = np.array([1,3])\n",
    "y = np.array([5,7])\n",
    "z= np.array([9])\n",
    "print(np.concatenate([x,y,z]))\n"
   ]
  },
  {
   "attachments": {},
   "cell_type": "markdown",
   "metadata": {},
   "source": [
    "# Problem 3"
   ]
  },
  {
   "cell_type": "code",
   "execution_count": 24,
   "metadata": {},
   "outputs": [
    {
     "name": "stdout",
     "output_type": "stream",
     "text": [
      "[84 51 14  8 20 41 64 84 94 80]\n",
      "1\n",
      "(10,)\n",
      "10\n",
      "int32\n"
     ]
    }
   ],
   "source": [
    "# 1 - 5 ile 100 arasında ikişer ikişer atlayarak rastgele 10 sayıdan oluşan matris üretin\n",
    "x = np.random.randint(5,100,10)\n",
    "print(x)\n",
    "# 2 - matris'in özelliklerini inceleyin\n",
    "print(x.ndim)\n",
    "print(x.shape)\n",
    "print(x.size)\n",
    "print(x.dtype)\n"
   ]
  }
 ],
 "metadata": {
  "kernelspec": {
   "display_name": "Python 3",
   "language": "python",
   "name": "python3"
  },
  "language_info": {
   "codemirror_mode": {
    "name": "ipython",
    "version": 3
   },
   "file_extension": ".py",
   "mimetype": "text/x-python",
   "name": "python",
   "nbconvert_exporter": "python",
   "pygments_lexer": "ipython3",
   "version": "3.11.1"
  },
  "orig_nbformat": 4,
  "vscode": {
   "interpreter": {
    "hash": "5026d2d6e7aaaaba093def813beadff083d8733e4a511af01735cbabd156995d"
   }
  }
 },
 "nbformat": 4,
 "nbformat_minor": 2
}
